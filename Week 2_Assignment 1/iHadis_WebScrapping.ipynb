{
  "nbformat": 4,
  "nbformat_minor": 0,
  "metadata": {
    "colab": {
      "provenance": [],
      "collapsed_sections": []
    },
    "kernelspec": {
      "name": "python3",
      "display_name": "Python 3"
    },
    "language_info": {
      "name": "python"
    }
  },
  "cells": [
    {
      "cell_type": "markdown",
      "source": [
        "# **iHadis Scrapping**"
      ],
      "metadata": {
        "id": "7Qo6ZOhv_fXB"
      }
    },
    {
      "cell_type": "code",
      "execution_count": null,
      "metadata": {
        "id": "WSHZFVTztVOX"
      },
      "outputs": [],
      "source": [
        "!pip install requests-html\n",
        "from requests_html import HTMLSession\n",
        "session = HTMLSession()"
      ]
    },
    {
      "cell_type": "code",
      "source": [
        "def hadith_book_scrapping(book_name,book_url,total_chapter):\n",
        "  #book_url = \"http://ihadis.com/books\"\n",
        "  for i in range(1, total_chapter+1):\n",
        "    chapter_url = book_url + \"/\" + book_name + \"/chapter/\" + str(i)\n",
        "    print(chapter_url)\n",
        "    #chapter_url = http://ihadis.com/books/bukhari/chapter/1\n",
        "    r = session.get(chapter_url)\n",
        "    #define pattern\n",
        "    no_pattern = \"div.had > h3.hidden-print\"\n",
        "    arabic_text_pattern = \"p.hadith-des2\"\n",
        "    narrator_pattern = \"p.narrated-by\"\n",
        "    bangla_text_pattern = \"p.hadith-des\"\n",
        "    hadith_status_pattern = \".label.validity\"\n",
        "\n",
        "    numbers = [i.text for i in r.html.find(no_pattern)]\n",
        "    arabic_text = [i.text for i in r.html.find(arabic_text_pattern)]\n",
        "    narrator = [i.text for i in r.html.find(narrator_pattern)]\n",
        "    bangla_text = [i.text for i in r.html.find(bangla_text_pattern)]\n",
        "    hadith_status =  [i.text for i in r.html.find(hadith_status_pattern)]\n",
        "    print(\"Chapter:\",i,len(numbers),len(arabic_text),len(narrator),len(bangla_text),len(hadith_status))\n",
        "\n",
        "    with open(f\"{book_name}/{book_name}_chapter_{i}.txt\",\"w\") as f:\n",
        "      f.write(\"No, Arabic Text, Narrator, Bangla Text, Hadith Status\")\n",
        "      for n, a, na, b, hs in zip(numbers,arabic_text,narrator,bangla_text,hadith_status):\n",
        "        f.write(f\"{n},{a},{na},{b},{hs}\")\n",
        "        f.write(\"\\n\")"
      ],
      "metadata": {
        "id": "gtXDS1gi00wz"
      },
      "execution_count": 13,
      "outputs": []
    },
    {
      "cell_type": "code",
      "source": [
        "book_name_list = [\"bukhari\",\"muslim\",\"nasayi\",\"abi-dawud\",\"tirmidi\",\"ibn-majah\",\"muatta-malik\"]\n",
        "total_chapter_list = [97,56,50,43,46,37,61]\n",
        "book_url = \"http://ihadis.com/books\"\n",
        "\n",
        "for book_name,total_chapter in zip(book_name_list,total_chapter_list):\n",
        "  hadith_book_scrapping(book_name,book_url,total_chapter)\n",
        "\n"
      ],
      "metadata": {
        "id": "0UUS9q3516hF"
      },
      "execution_count": null,
      "outputs": []
    },
    {
      "cell_type": "code",
      "source": [],
      "metadata": {
        "id": "7RksfwhoCyNM"
      },
      "execution_count": null,
      "outputs": []
    }
  ]
}